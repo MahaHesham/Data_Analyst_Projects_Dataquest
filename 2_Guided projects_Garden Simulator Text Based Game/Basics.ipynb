{
 "cells": [
  {
   "cell_type": "markdown",
   "metadata": {},
   "source": [
    "# Garden Simulator project!\n",
    "- Players will simulate the experience of finding new seeds, planting them, and harvesting them when ready!\n",
    "- Players will choose which plants to grow.\n",
    "- The game will incorporate various stages of plant growth from seeds to mature plants. \n",
    "- Players will need to care for their plants at each stage.\n",
    "\n",
    "# Stages :\n",
    "- Planting --> Choose a plant from your inventory and plant it.\n",
    "- Tending --> Care for your plants to help them grow.\n",
    "- Harvesting --> Once a plant is mature, harvest it to add to your inventory.\n",
    "- Foraging --> Look for new seeds to expand your plant collection.\n",
    "\n",
    "# Importing necessary modules\n",
    "**Let's start by importing the `random` library so we can include some unpredictability for elements in the game.**"
   ]
  },
  {
   "cell_type": "code",
   "execution_count": 1,
   "metadata": {},
   "outputs": [],
   "source": [
    "import random"
   ]
  },
  {
   "cell_type": "markdown",
   "metadata": {},
   "source": [
    "# The Plant Class\n",
    "\n",
    "- This class will represent the plants the gardener can grow, each with its characteristics and growth stages.\n",
    "- This class will serve as the parent class for all of the types of plants we want to include as plantable objects in the game.\n",
    "\n",
    "## Creating the Plant Class and Attributes \n",
    "**This class represents the base `Plant` in the garden, with attributes :**\n",
    "- `name` --> define the plant's name.\n",
    "- `harvest_yield` --> the amount of fruits or vegetables that can be harvested from a mature plant.\n",
    "- `growth_stages` --> the various growth stages this plant goes through.\n",
    "- `current_growth_stage` --> keep track of the current stage.\n",
    "- `harvestable` --> whether or not the plant is currently harvestable.\n",
    "\n",
    "\n",
    "## Adding Methods to the Plant Class\n",
    "**The Plant class has two methods : `grow` and `harvest`.**\n",
    "- `grow()`--> updates the plant's `current_growth_stage` attribute if it is not already on the final growth stage. If the plant is ready for harvest, this method also updates the `harvestable` attribute to `True`.\n",
    "- `harvest()` --> Sets the `harvestable` attribute to `False` and returns the `harvest_yield`. The remainder of harvest-related actions will happen in the `Gardener` class"
   ]
  },
  {
   "cell_type": "code",
   "execution_count": 2,
   "metadata": {},
   "outputs": [],
   "source": [
    "class Plant:\n",
    "    def __init__(self, name, harvest_yield):\n",
    "        self.name = name\n",
    "        self.harvest_yield = harvest_yield\n",
    "        self.growth_stages = [\"seed\", \"sprout\", \"mature\", \"flower\", \"fruit\", \"harvest-ready\"]\n",
    "        self.current_growth_stage = self.growth_stages[0] # Initial growth stage is seed\n",
    "        self.harvestable = False\n",
    "        \n",
    "    def grow(self):\n",
    "        stage = self.growth_stages.index(self.current_growth_stage)\n",
    "        \n",
    "        if self.current_growth_stage == self.growth_stages[-1]:\n",
    "            print(f\"{self.name} is already fully grown!\")\n",
    "            \n",
    "        elif stage < len(self.growth_stages) - 1:\n",
    "            self.current_growth_stage = self.growth_stages[stage + 1]\n",
    "            print(f\"Current Stage : {self.current_growth_stage}\")\n",
    "            \n",
    "            if self.current_growth_stage == \"harvest-ready\":\n",
    "                self.harvestable = True\n",
    "                print(\"Plant ready to be harvested\")\n",
    "                \n",
    "                \n",
    "    def harvest(self):\n",
    "        if self.harvestable:\n",
    "            self.harvestable = False\n",
    "            return self.harvest_yield\n",
    "        else:\n",
    "            return None"
   ]
  },
  {
   "cell_type": "markdown",
   "metadata": {},
   "source": [
    "# Define Specific Plant Types\n",
    "\n",
    "- The following subclasses will be the children of the `Plant` parent class.\n",
    "- They will be representing as many plants as we want to create subclasses for. \n",
    "- In these subclasses, we can see that the `Tomato` subclass inherits everything from `Plant`, but `Lettuce` and `Carrot` override the inherited `growth_stages` attribute because these types of plant do not flower or fruit before they are \"harvest-ready.\""
   ]
  },
  {
   "cell_type": "code",
   "execution_count": 3,
   "metadata": {},
   "outputs": [],
   "source": [
    "class Tomato(Plant):\n",
    "    def __init__(self):\n",
    "        super().__init__(\"Tomato\", 15)\n",
    "\n",
    "class Lettuce(Plant):\n",
    "    def __init__(self):\n",
    "        super().__init__(\"Lettuce\", 5)\n",
    "        self.growth_stages = [\"seed\", \"sprout\", \"mature\", \"harvest-ready\"]\n",
    "\n",
    "class Carrot(Plant):\n",
    "    def __init__(self):\n",
    "        super().__init__(\"Carrot\", 10)\n",
    "        self.growth_stages = [\"seed\", \"sprout\", \"mature\", \"harvest-ready\"]"
   ]
  },
  {
   "cell_type": "markdown",
   "metadata": {},
   "source": [
    "# Selecting Inventory Items\n",
    "\n",
    "- This is a helper function that will go through a dictionary or list, display the dictionary keys or list items to the user as a numbered list, and then prompt the user to select an item by number. \n",
    "- The function returns the corresponding item.\n",
    "\n",
    "# Continuous Prompting for Selecting Items\n",
    "\n",
    "- This helper function has the ability to continuously prompt users until they select valid input. \n",
    "- This helps account for input errors and ensures that users provide valid selections."
   ]
  },
  {
   "cell_type": "code",
   "execution_count": 4,
   "metadata": {},
   "outputs": [],
   "source": [
    "def select_item(items):\n",
    "    \n",
    "    # Determine if items is a dictionary or a list\n",
    "    if type(items) == dict:\n",
    "        item_list = list(items.keys())\n",
    "    elif type(items) == list:\n",
    "        item_list = items\n",
    "    else:\n",
    "        print(\"Invalid items type.\")\n",
    "        return None\n",
    "\n",
    "    # Print out the items\n",
    "    for i in range(len(item_list)):\n",
    "        try:\n",
    "            item_name = item_list[i].name\n",
    "        except:\n",
    "            item_name = item_list[i]\n",
    "        print(f\"{i + 1}. {item_name}\")\n",
    "\n",
    "    # Get user input\n",
    "    while True:\n",
    "        user_input = input(\"Select an item: \")\n",
    "        try:\n",
    "            user_input = int(user_input)\n",
    "            if 0 < user_input <= len(item_list):\n",
    "                return item_list[user_input - 1]\n",
    "            else:\n",
    "                print(\"Invalid input.\")\n",
    "        except:\n",
    "            print(\"Invalid input.\")\n"
   ]
  },
  {
   "cell_type": "markdown",
   "metadata": {},
   "source": [
    "# Defining the Gardener Class\n",
    "**The `Gardener` class models the player, who can plant, tend, harvest, and forage plants. The class has three attributes:**\n",
    "- `name` --> represents the gardener's name\n",
    "- `planted_plants` --> a list of any plants the gardener has currently planted\n",
    "- `inventory` --> a dictionary where the keys are the item names and the values are the quantity of the item \"a dictionary that stores the gardener's collection of seeds and harvested plants\".\n",
    "\n",
    "***We have also created a `plant_dict` before the `__init__` method to connect each plant subclass to a string so that it is easier to instantiate new objects for each type.***\n",
    "\n",
    "\n",
    "# Extending the Gardener Class Functionality\n",
    "**Gardener Methods :**\n",
    "- `plant` --> Think of this as the action of placing a seed into the soil. You're choosing a specific plant from your inventory, using it up (reducing its count from the `inventory` dictionary), and adding it to a list of growing plants (\"the `planted_plants` list\").\n",
    "\n",
    "- `tend` --> This method represents the ongoing care your plants need, and as a result, their progress through different growth stages. It prompts the user to select a plant from their `planted_plants`, then calls the `grow()` method on that plant.\n",
    "\n",
    "- `harvest` --> Once a plant is ready, this method lets you harvest it. You'll remove it from the list of growing plants and add the harvested produce to your inventory.It prompts the user to select a plant from their `planted_plants`, then calls the `harvest()` method on that plant. It then adds the `harvest_yield` to the gardener's inventory.\n",
    "\n",
    "\n",
    "# Introducing Randomness: Foraging for Seeds\n",
    "- The `forage_for_seeds` method allows the gardener to forage for seeds. \n",
    "- It randomly selects a plant type from the `plant_dict` and adds it to the gardener's inventory."
   ]
  },
  {
   "cell_type": "code",
   "execution_count": 5,
   "metadata": {},
   "outputs": [],
   "source": [
    "class Gardener:\n",
    "    plant_dict = {\"tomato\": Tomato, \"lettuce\": Lettuce, \"carrot\": Carrot}\n",
    "\n",
    "    def __init__(self, name):\n",
    "        self.name = name\n",
    "        self.planted_plants = []\n",
    "        self.inventory = {}\n",
    "        \n",
    "    def plant(self):\n",
    "        selected_plant = select_item(self.inventory)\n",
    "        if selected_plant in self.inventory and self.inventory[selected_plant] > 0:\n",
    "            self.inventory[selected_plant] -= 1\n",
    "            if self.inventory[selected_plant] == 0:\n",
    "                del self.inventory[selected_plant]\n",
    "            new_plant = self.plant_dict[selected_plant]()\n",
    "            self.planted_plants.append(new_plant)\n",
    "            print(f\"{self.name} planted a {selected_plant}!\")\n",
    "        else:\n",
    "            print(f\"{self.name} doesn't have any {selected_plant} to plant!\")\n",
    "\n",
    "    def tend(self):\n",
    "        for plant in self.planted_plants:\n",
    "            if plant.harvestable:\n",
    "                print(f\"{plant.name} is ready to be harvested!\")\n",
    "            else:\n",
    "                plant.grow()\n",
    "                print(f\"{plant.name} is now a {plant.current_growth_stage}!\")\n",
    "    \n",
    "    def harvest(self):\n",
    "        selected_plant = select_item(self.planted_plants)\n",
    "        if selected_plant.harvestable == True:\n",
    "            if selected_plant.name in self.inventory:\n",
    "                self.inventory[selected_plant.name] += selected_plant.harvest()\n",
    "            else:\n",
    "                self.inventory[selected_plant.name] = selected_plant.harvest()\n",
    "            print(f\"You harvested a {selected_plant.name}!\")\n",
    "            self.planted_plants.remove(selected_plant)\n",
    "        else:\n",
    "            print(f\"You can't harvest a {selected_plant.name}!\")\n",
    "            \n",
    "    def forage_for_seeds(self):\n",
    "        seed = random.choice(all_plant_types)\n",
    "        if seed in self.inventory:\n",
    "            self.inventory[seed] += 1\n",
    "        else:\n",
    "            self.inventory[seed] = 1\n",
    "        print(f\"{self.name} found a {seed} seed!\")"
   ]
  },
  {
   "cell_type": "markdown",
   "metadata": {},
   "source": [
    "# Setting Game-Level Variables\n",
    "\n",
    "- We will need to set up some variabels to keep track of contants in the game.\n",
    "    1. `all_plant_types` --> It is a list of all the plant types we have created. \n",
    "    2. `valid_commands` --> It is a list of all the commands the player can use. \n",
    "    3. `gardener_name` --> It is a variable that collects the player's name and a `gardener` variable that will be used to instantiate the `Gardener` class.\n",
    "\n",
    "- There is also print statements that welcome the player to the game and explain the commands.\n",
    "\n",
    "\n",
    "# Setting Up the Main Game Loop\n",
    "- The main game loop will be the core of the game, where the player can choose what actions to take. \n",
    "- The loop will continue until the player chooses to quit the game.\n",
    "\n",
    "\n",
    "# How Does it Work?\n",
    "**Let's break down what we need for the game loop of our Garden Simulator:**\n",
    "\n",
    "1. Initialization --> Before the loop starts, you set the stage. Here, you're asking the player for their name and initializing their gardener avatar.\n",
    "\n",
    "2. List of Actions --> Define a list of potential actions a player can take. This list acts as a reference for valid commands.\n",
    "\n",
    "3. Prompting the Player --> At the start of each loop iteration, you prompt the player with \"What would you like to do?\". This is where you're waiting for user input.\n",
    "\n",
    "4. Handling User Input --> Once the player provides an input:\n",
    "- Check if the input matches one of the valid actions.\n",
    "- If it does, execute the corresponding action.\n",
    "- If not, give feedback to the player and prompt them again.\n",
    "\n",
    "5. Exit Condition --> Every game loop needs a way out. In this case, when a player types \"quit\" or \"exit\", the loop terminates.\n",
    "\n",
    "\n",
    "**In our Garden Simulator, the game loop allows players to plant seeds, tend to them, harvest crops, and perform other actions in a continuous cycle, making the simulation feel real and interactive.**\n",
    "\n",
    "\n",
    "# The Main Game Loop\n",
    "- The main game loop will continue until the player chooses to quit the game. \n",
    "- The loop will prompt the player to enter a command, then call the appropriate method on the `Gardener` class."
   ]
  },
  {
   "cell_type": "code",
   "execution_count": 6,
   "metadata": {},
   "outputs": [
    {
     "name": "stdout",
     "output_type": "stream",
     "text": [
      "Welcome to the garden! You will act as a virtual gardener.\n",
      "Forage for new seeds, plant them, and then watch them grow!\n",
      "Start by entering your name.\n"
     ]
    },
    {
     "name": "stdin",
     "output_type": "stream",
     "text": [
      "What is your name?  Maha\n"
     ]
    },
    {
     "name": "stdout",
     "output_type": "stream",
     "text": [
      "Welcome, Maha! Let's get gardening!\n",
      "Type 'help' for a list of commands.\n"
     ]
    },
    {
     "name": "stdin",
     "output_type": "stream",
     "text": [
      "What would you like to do?  help\n"
     ]
    },
    {
     "name": "stdout",
     "output_type": "stream",
     "text": [
      "*** Commands ***\n",
      "plant\n",
      "tend\n",
      "harvest\n",
      "forage\n",
      "help\n",
      "quit\n"
     ]
    },
    {
     "name": "stdin",
     "output_type": "stream",
     "text": [
      "What would you like to do?  forage\n"
     ]
    },
    {
     "name": "stdout",
     "output_type": "stream",
     "text": [
      "Maha found a lettuce seed!\n"
     ]
    },
    {
     "name": "stdin",
     "output_type": "stream",
     "text": [
      "What would you like to do?  plant\n"
     ]
    },
    {
     "name": "stdout",
     "output_type": "stream",
     "text": [
      "1. lettuce\n"
     ]
    },
    {
     "name": "stdin",
     "output_type": "stream",
     "text": [
      "Select an item:  2\n"
     ]
    },
    {
     "name": "stdout",
     "output_type": "stream",
     "text": [
      "Invalid input.\n"
     ]
    },
    {
     "name": "stdin",
     "output_type": "stream",
     "text": [
      "Select an item:  1\n"
     ]
    },
    {
     "name": "stdout",
     "output_type": "stream",
     "text": [
      "Maha planted a lettuce!\n"
     ]
    },
    {
     "name": "stdin",
     "output_type": "stream",
     "text": [
      "What would you like to do?  tend\n"
     ]
    },
    {
     "name": "stdout",
     "output_type": "stream",
     "text": [
      "Current Stage : sprout\n",
      "Lettuce is now a sprout!\n"
     ]
    },
    {
     "name": "stdin",
     "output_type": "stream",
     "text": [
      "What would you like to do?  tend\n"
     ]
    },
    {
     "name": "stdout",
     "output_type": "stream",
     "text": [
      "Current Stage : mature\n",
      "Lettuce is now a mature!\n"
     ]
    },
    {
     "name": "stdin",
     "output_type": "stream",
     "text": [
      "What would you like to do?  tend\n"
     ]
    },
    {
     "name": "stdout",
     "output_type": "stream",
     "text": [
      "Current Stage : harvest-ready\n",
      "Plant ready to be harvested\n",
      "Lettuce is now a harvest-ready!\n"
     ]
    },
    {
     "name": "stdin",
     "output_type": "stream",
     "text": [
      "What would you like to do?  harves\n"
     ]
    },
    {
     "name": "stdout",
     "output_type": "stream",
     "text": [
      "Invalid command.\n"
     ]
    },
    {
     "name": "stdin",
     "output_type": "stream",
     "text": [
      "What would you like to do?  harvest\n"
     ]
    },
    {
     "name": "stdout",
     "output_type": "stream",
     "text": [
      "1. Lettuce\n"
     ]
    },
    {
     "name": "stdin",
     "output_type": "stream",
     "text": [
      "Select an item:  1\n"
     ]
    },
    {
     "name": "stdout",
     "output_type": "stream",
     "text": [
      "You harvested a Lettuce!\n"
     ]
    },
    {
     "name": "stdin",
     "output_type": "stream",
     "text": [
      "What would you like to do?  quit\n"
     ]
    },
    {
     "name": "stdout",
     "output_type": "stream",
     "text": [
      "Goodbye!\n"
     ]
    }
   ],
   "source": [
    "all_plant_types = [\"tomato\", \"lettuce\", \"carrot\"]\n",
    "valid_commands = [\"plant\", \"tend\", \"harvest\", \"forage\", \"help\", \"quit\"]\n",
    "\n",
    "# Print welcome message\n",
    "print(\"Welcome to the garden! You will act as a virtual gardener.\\nForage for new seeds, plant them, and then watch them grow!\\nStart by entering your name.\")\n",
    "\n",
    "# Create gardener\n",
    "gardener_name = input(\"What is your name? \")\n",
    "print(f\"Welcome, {gardener_name}! Let's get gardening!\\nType 'help' for a list of commands.\")\n",
    "gardener = Gardener(gardener_name)\n",
    "\n",
    "# Main game loop\n",
    "while True:\n",
    "    player_action = input(\"What would you like to do? \")\n",
    "    player_action = player_action.lower()\n",
    "    if player_action in valid_commands:\n",
    "        if player_action == \"plant\":\n",
    "            gardener.plant()\n",
    "        elif player_action == \"tend\":\n",
    "            gardener.tend()\n",
    "        elif player_action == \"harvest\":\n",
    "            gardener.harvest()\n",
    "        elif player_action == \"forage\":\n",
    "            gardener.forage_for_seeds()\n",
    "        elif player_action == \"help\":\n",
    "            print(\"*** Commands ***\")\n",
    "            for command in valid_commands:\n",
    "                print(command)\n",
    "        elif player_action == \"quit\":\n",
    "            print(\"Goodbye!\")\n",
    "            break\n",
    "    else:\n",
    "        print(\"Invalid command.\")"
   ]
  }
 ],
 "metadata": {
  "kernelspec": {
   "display_name": "Python 3 (ipykernel)",
   "language": "python",
   "name": "python3"
  },
  "language_info": {
   "codemirror_mode": {
    "name": "ipython",
    "version": 3
   },
   "file_extension": ".py",
   "mimetype": "text/x-python",
   "name": "python",
   "nbconvert_exporter": "python",
   "pygments_lexer": "ipython3",
   "version": "3.10.6"
  }
 },
 "nbformat": 4,
 "nbformat_minor": 4
}
